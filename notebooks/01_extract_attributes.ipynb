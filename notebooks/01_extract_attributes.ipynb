{
  "cells": [
    {
      "cell_type": "raw",
      "metadata": {
        "vscode": {
          "languageId": "raw"
        }
      },
      "source": [
        "# 01 - Extract Attributes with BLIP\n",
        "\n",
        "This notebook explores image attribute extraction using the BLIP model.\n"
      ]
    },
    {
      "cell_type": "code",
      "execution_count": null,
      "metadata": {},
      "outputs": [],
      "source": [
        "import sys\n",
        "sys.path.append('../src')\n",
        "\n",
        "from PIL import Image\n",
        "import matplotlib.pyplot as plt\n",
        "from infer_blip import BLIPInferencer\n",
        "from utils import load_image\n"
      ]
    },
    {
      "cell_type": "raw",
      "metadata": {
        "vscode": {
          "languageId": "raw"
        }
      },
      "source": [
        "## Initialize BLIP Model\n"
      ]
    },
    {
      "cell_type": "code",
      "execution_count": null,
      "metadata": {},
      "outputs": [],
      "source": [
        "# Initialize the BLIP inferencer\n",
        "blip = BLIPInferencer()\n"
      ]
    },
    {
      "cell_type": "raw",
      "metadata": {
        "vscode": {
          "languageId": "raw"
        }
      },
      "source": [
        "## Load and Display Test Image\n"
      ]
    },
    {
      "cell_type": "code",
      "execution_count": null,
      "metadata": {},
      "outputs": [],
      "source": [
        "# Load a test image - replace with your image path\n",
        "image_path = \"../demo/assets/placeholder.jpg\"  # Update this path\n",
        "\n",
        "try:\n",
        "    image = load_image(image_path)\n",
        "    plt.figure(figsize=(10, 8))\n",
        "    plt.imshow(image)\n",
        "    plt.axis('off')\n",
        "    plt.title('Input Image')\n",
        "    plt.show()\n",
        "except FileNotFoundError:\n",
        "    print(f\"Image not found at {image_path}. Please provide a valid image path.\")\n",
        "    image = None\n"
      ]
    },
    {
      "cell_type": "raw",
      "metadata": {
        "vscode": {
          "languageId": "raw"
        }
      },
      "source": [
        "## Extract Basic Caption\n"
      ]
    },
    {
      "cell_type": "code",
      "execution_count": null,
      "metadata": {},
      "outputs": [],
      "source": [
        "if image:\n",
        "    # Generate basic caption\n",
        "    caption = blip.extract_caption(image)\n",
        "    print(f\"Generated Caption: {caption}\")\n"
      ]
    }
  ],
  "metadata": {
    "language_info": {
      "name": "python"
    }
  },
  "nbformat": 4,
  "nbformat_minor": 2
}
