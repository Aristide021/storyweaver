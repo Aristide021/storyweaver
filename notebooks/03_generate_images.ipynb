{
  "cells": [
    {
      "cell_type": "raw",
      "metadata": {
        "vscode": {
          "languageId": "raw"
        }
      },
      "source": [
        "# 03 - Generate Images with SDXL\n",
        "\n",
        "This notebook explores image generation using Stable Diffusion XL based on the generated story text.\n"
      ]
    },
    {
      "cell_type": "code",
      "execution_count": null,
      "metadata": {},
      "outputs": [],
      "source": [
        "import sys\n",
        "sys.path.append('../src')\n",
        "\n",
        "import json\n",
        "import matplotlib.pyplot as plt\n",
        "from infer_sdxl import SDXLInferencer\n"
      ]
    },
    {
      "cell_type": "raw",
      "metadata": {
        "vscode": {
          "languageId": "raw"
        }
      },
      "source": [
        "## Load Previous Results\n"
      ]
    },
    {
      "cell_type": "code",
      "execution_count": null,
      "metadata": {},
      "outputs": [],
      "source": [
        "# Load the story and attributes from previous steps\n",
        "sample_story = \"\"\"\n",
        "In the heart of the ancient mountains, where emerald forests stretched endlessly toward azure skies, \n",
        "a tale of wonder began to unfold. The peaceful valley held secrets whispered by the wind through \n",
        "towering pines, and every sunrise painted the landscape in hues of gold and crimson.\n",
        "\"\"\"\n",
        "\n",
        "# Try to load actual results if available\n",
        "try:\n",
        "    with open('../outputs/extracted_attributes.json', 'r') as f:\n",
        "        attributes = json.load(f)\n",
        "    print(\"Loaded attributes from previous analysis\")\n",
        "except FileNotFoundError:\n",
        "    attributes = {\"caption\": \"a serene mountain landscape\"}\n",
        "    print(\"Using sample attributes\")\n",
        "\n",
        "print(f\"Story to visualize: {sample_story[:100]}...\")\n",
        "print(f\"Key attributes: {attributes.get('caption', 'N/A')}\")\n"
      ]
    },
    {
      "cell_type": "raw",
      "metadata": {
        "vscode": {
          "languageId": "raw"
        }
      },
      "source": [
        "## Initialize SDXL Model\n"
      ]
    },
    {
      "cell_type": "code",
      "execution_count": null,
      "metadata": {},
      "outputs": [],
      "source": [
        "# Initialize SDXL inferencer\n",
        "# Note: This requires significant GPU memory and may take time to load\n",
        "sdxl = SDXLInferencer()\n"
      ]
    },
    {
      "cell_type": "raw",
      "metadata": {
        "vscode": {
          "languageId": "raw"
        }
      },
      "source": [
        "## Generate Images\n"
      ]
    },
    {
      "cell_type": "code",
      "execution_count": null,
      "metadata": {},
      "outputs": [],
      "source": [
        "# Generate images based on the story\n",
        "generated_images = sdxl.generate_story_images(\n",
        "    sample_story, \n",
        "    attributes, \n",
        "    num_images=3,\n",
        "    num_inference_steps=20  # Faster generation for demo\n",
        ")\n",
        "\n",
        "# Display the generated images\n",
        "fig, axes = plt.subplots(1, 3, figsize=(15, 5))\n",
        "for i, img in enumerate(generated_images):\n",
        "    axes[i].imshow(img)\n",
        "    axes[i].axis('off')\n",
        "    axes[i].set_title(f'Generated Image {i+1}')\n",
        "\n",
        "plt.tight_layout()\n",
        "plt.show()\n",
        "\n",
        "# Save images\n",
        "import os\n",
        "os.makedirs('../outputs', exist_ok=True)\n",
        "for i, img in enumerate(generated_images):\n",
        "    img.save(f'../outputs/generated_image_{i+1}.png')\n",
        "    \n",
        "print(f\"Generated and saved {len(generated_images)} images to ../outputs/\")\n"
      ]
    }
  ],
  "metadata": {
    "language_info": {
      "name": "python"
    }
  },
  "nbformat": 4,
  "nbformat_minor": 2
}
