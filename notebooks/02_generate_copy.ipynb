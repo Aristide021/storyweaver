{
  "cells": [
    {
      "cell_type": "raw",
      "metadata": {
        "vscode": {
          "languageId": "raw"
        }
      },
      "source": [
        "# 02 - Generate Story Copy with LLaMA\n",
        "\n",
        "This notebook explores story text generation using the LLaMA model based on extracted image attributes.\n"
      ]
    },
    {
      "cell_type": "code",
      "execution_count": null,
      "metadata": {},
      "outputs": [],
      "source": [
        "import sys\n",
        "sys.path.append('../src')\n",
        "\n",
        "import json\n",
        "from infer_llama import LlamaInferencer\n",
        "from utils import load_config\n"
      ]
    },
    {
      "cell_type": "raw",
      "metadata": {
        "vscode": {
          "languageId": "raw"
        }
      },
      "source": [
        "## Load Extracted Attributes\n"
      ]
    },
    {
      "cell_type": "code",
      "execution_count": null,
      "metadata": {},
      "outputs": [],
      "source": [
        "# Load attributes from previous notebook\n",
        "try:\n",
        "    with open('../outputs/extracted_attributes.json', 'r') as f:\n",
        "        attributes = json.load(f)\n",
        "    print(\"Loaded attributes from previous step:\")\n",
        "    for key, value in attributes.items():\n",
        "        print(f\"{key}: {value}\")\n",
        "except FileNotFoundError:\n",
        "    print(\"No attributes file found. Run 01_extract_attributes.ipynb first or provide sample attributes.\")\n",
        "    # Sample attributes for testing\n",
        "    attributes = {\n",
        "        \"caption\": \"a beautiful landscape with mountains and trees\",\n",
        "        \"What is the main subject in this image?\": \"mountains and forest\",\n",
        "        \"What colors are prominent in this image?\": \"green and blue\",\n",
        "        \"What is the setting or location?\": \"natural landscape\",\n",
        "        \"What is the mood or atmosphere?\": \"peaceful and serene\"\n",
        "    }\n"
      ]
    },
    {
      "cell_type": "raw",
      "metadata": {
        "vscode": {
          "languageId": "raw"
        }
      },
      "source": [
        "## Initialize LLaMA Model\n"
      ]
    },
    {
      "cell_type": "code",
      "execution_count": null,
      "metadata": {},
      "outputs": [],
      "source": [
        "# Initialize LLaMA inferencer\n",
        "# Note: This may take some time to load\n",
        "llama = LlamaInferencer()\n"
      ]
    },
    {
      "cell_type": "raw",
      "metadata": {
        "vscode": {
          "languageId": "raw"
        }
      },
      "source": [
        "## Generate Story\n"
      ]
    },
    {
      "cell_type": "code",
      "execution_count": null,
      "metadata": {},
      "outputs": [],
      "source": [
        "# Generate a story based on the extracted attributes\n",
        "story = llama.generate_story(attributes)\n",
        "\n",
        "print(\"Generated Story:\")\n",
        "print(\"=\" * 60)\n",
        "print(story)\n",
        "print(\"=\" * 60)\n",
        "print(f\"Story length: {len(story.split())} words\")\n"
      ]
    }
  ],
  "metadata": {
    "language_info": {
      "name": "python"
    }
  },
  "nbformat": 4,
  "nbformat_minor": 2
}
